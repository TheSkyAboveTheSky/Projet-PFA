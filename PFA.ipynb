{
  "nbformat": 4,
  "nbformat_minor": 0,
  "metadata": {
    "colab": {
      "provenance": [],
      "authorship_tag": "ABX9TyPME5YeMv+RD+tYRuaXTzwv",
      "include_colab_link": true
    },
    "kernelspec": {
      "name": "python3",
      "display_name": "Python 3"
    },
    "language_info": {
      "name": "python"
    }
  },
  "cells": [
    {
      "cell_type": "markdown",
      "metadata": {
        "id": "view-in-github",
        "colab_type": "text"
      },
      "source": [
        "<a href=\"https://colab.research.google.com/github/TheSkyAboveTheSky/Projet-PFA/blob/main/PFA.ipynb\" target=\"_parent\"><img src=\"https://colab.research.google.com/assets/colab-badge.svg\" alt=\"Open In Colab\"/></a>"
      ]
    },
    {
      "cell_type": "markdown",
      "source": [
        "# **Import**"
      ],
      "metadata": {
        "id": "6_phIWyJAl72"
      }
    },
    {
      "cell_type": "code",
      "execution_count": 14,
      "metadata": {
        "id": "bUQOuCko-R_5"
      },
      "outputs": [],
      "source": [
        "import os\n",
        "import cv2\n",
        "import tensorflow as tf\n",
        "from tensorflow import keras\n",
        "import csv\n",
        "import matplotlib.pyplot as plt\n",
        "import numpy as np"
      ]
    },
    {
      "cell_type": "markdown",
      "source": [
        "# **Data**"
      ],
      "metadata": {
        "id": "jFasUVCbAzi8"
      }
    },
    {
      "cell_type": "code",
      "source": [
        "def removeImages(data_dir) :\n",
        "  # List all the images in the folder\n",
        "  file_list = os.listdir(data_dir)\n",
        "  # Remove them all\n",
        "  for file_name in file_list:\n",
        "      file_path = os.path.join(data_dir, file_name)\n",
        "      if os.path.isfile(file_path):\n",
        "          os.remove(file_path)\n",
        "# Data Directory\n",
        "data_dir = \"data\"\n",
        "# Sort the list of our png files \n",
        "image_files = sorted(\n",
        "    [file for file in os.listdir(data_dir) if file.endswith(\".png\")],\n",
        "    key=lambda x: int(''.join(filter(str.isdigit, os.path.splitext(os.path.basename(x))[0])))\n",
        ")\n",
        "# List to store our images \n",
        "images = []\n",
        "for image_file in image_files:\n",
        "  image_path = os.path.join(data_dir, image_file)\n",
        "  image = cv2.imread(image_path)\n",
        "  images.append(image)\n",
        "# Read labels from csv file\n",
        "labels = []\n",
        "with open('label.csv','r') as f:\n",
        "  reader = csv.reader(f)\n",
        "  # skip the columns name\n",
        "  next(reader)\n",
        "  for row in reader:\n",
        "    labels.extend([row])\n",
        "# Get the list of all unique characters in the labels\n",
        "characters = sorted(list(set(char for arr in labels for string in arr for char in string)))\n",
        "print(\"Number of images found:\", len(images))\n",
        "print(\"Number of labels found:\", len(labels))\n",
        "print(\"Number of unique characters:\", len(characters))\n",
        "print(\"Characters present:\", characters)\n"
      ],
      "metadata": {
        "colab": {
          "base_uri": "https://localhost:8080/"
        },
        "id": "GBTxTDs3A4Jj",
        "outputId": "fbe150a5-b5f5-4c19-98ba-8bb824e3fb58"
      },
      "execution_count": 17,
      "outputs": [
        {
          "output_type": "stream",
          "name": "stdout",
          "text": [
            "Number of images found: 2\n",
            "Number of labels found: 115\n",
            "Number of unique characters: 64\n",
            "Characters present: [' ', '#', '.', '/', '0', '1', '2', '3', '4', '5', '6', '7', '8', '9', '@', 'A', 'B', 'C', 'D', 'E', 'F', 'G', 'H', 'I', 'J', 'K', 'L', 'M', 'N', 'O', 'P', 'R', 'S', 'T', 'V', 'W', 'Y', 'Z', '_', 'a', 'b', 'c', 'd', 'e', 'f', 'g', 'h', 'i', 'j', 'k', 'l', 'm', 'n', 'o', 'p', 'r', 's', 't', 'u', 'v', 'w', 'x', 'y', 'z']\n"
          ]
        }
      ]
    },
    {
      "cell_type": "markdown",
      "source": [
        "# **Define Our Variable**"
      ],
      "metadata": {
        "id": "uPl8aeNXKRYn"
      }
    },
    {
      "cell_type": "code",
      "source": [
        "img_width = 600\n",
        "img_height = 200\n",
        "max_length = 50\n",
        "batch_size = 1\n",
        "input_shape = (img_height,img_width,3)\n",
        "num_classes = len(characters) +1"
      ],
      "metadata": {
        "id": "D-wZgm8LKVGU"
      },
      "execution_count": 22,
      "outputs": []
    },
    {
      "cell_type": "markdown",
      "source": [
        "# **TRansform characters into numbers and numbers into characters**"
      ],
      "metadata": {
        "id": "GX345LP7LAYk"
      }
    },
    {
      "cell_type": "code",
      "source": [
        "char_to_num = keras.layers.StringLookup(\n",
        "    vocabulary=characters, mask_token=None\n",
        ")\n",
        "num_to_char = keras.layers.StringLookup(\n",
        "    vocabulary=char_to_num.get_vocabulary(), mask_token=None, invert=True\n",
        ")"
      ],
      "metadata": {
        "id": "hJK_Y90ILA-R"
      },
      "execution_count": 21,
      "outputs": []
    }
  ]
}